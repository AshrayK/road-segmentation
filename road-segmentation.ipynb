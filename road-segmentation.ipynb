{
 "cells": [
  {
   "cell_type": "markdown",
   "id": "cfadf990",
   "metadata": {
    "papermill": {
     "duration": 0.032687,
     "end_time": "2023-11-03T05:19:38.387282",
     "exception": false,
     "start_time": "2023-11-03T05:19:38.354595",
     "status": "completed"
    },
    "tags": []
   },
   "source": [
    "# Fully Convolutional Network"
   ]
  },
  {
   "cell_type": "markdown",
   "id": "c98b45ad",
   "metadata": {
    "papermill": {
     "duration": 0.030712,
     "end_time": "2023-11-03T05:19:38.451097",
     "exception": false,
     "start_time": "2023-11-03T05:19:38.420385",
     "status": "completed"
    },
    "tags": []
   },
   "source": [
    "## Import Libraries"
   ]
  },
  {
   "cell_type": "code",
   "execution_count": 1,
   "id": "d5c7e034",
   "metadata": {
    "execution": {
     "iopub.execute_input": "2023-11-03T05:19:38.518725Z",
     "iopub.status.busy": "2023-11-03T05:19:38.517410Z",
     "iopub.status.idle": "2023-11-03T05:19:45.243024Z",
     "shell.execute_reply": "2023-11-03T05:19:45.242267Z",
     "shell.execute_reply.started": "2023-11-03T05:17:48.768950Z"
    },
    "papermill": {
     "duration": 6.76098,
     "end_time": "2023-11-03T05:19:45.243250",
     "exception": false,
     "start_time": "2023-11-03T05:19:38.482270",
     "status": "completed"
    },
    "tags": []
   },
   "outputs": [],
   "source": [
    "import pandas as pd\n",
    "import numpy as np\n",
    "import os\n",
    "import random\n",
    "import tensorflow as tf\n",
    "import cv2\n",
    "from tqdm import tqdm\n",
    "import datetime\n",
    "from tensorflow import keras\n",
    "from tensorflow.keras.layers import Conv2D, MaxPooling2D, UpSampling2D, Concatenate \n",
    "from tensorflow.keras.layers import Input, Add, Conv2DTranspose\n",
    "from tensorflow.keras.models import Sequential, Model\n",
    "from tensorflow.keras.applications import VGG16\n",
    "from tensorflow.keras.optimizers import SGD, Adam\n",
    "from tensorflow.keras.losses import SparseCategoricalCrossentropy, MeanSquaredError, BinaryCrossentropy\n",
    "from tensorflow.keras.utils import plot_model\n",
    "from tensorflow.keras import callbacks\n",
    "\n",
    "from  matplotlib import pyplot as plt\n",
    "import matplotlib.image as mpimg\n",
    "from IPython.display import clear_output\n",
    "%matplotlib inline\n",
    "\n",
    "from IPython.display import HTML\n",
    "from base64 import b64encode"
   ]
  },
  {
   "cell_type": "markdown",
   "id": "5feab346",
   "metadata": {
    "papermill": {
     "duration": 0.030646,
     "end_time": "2023-11-03T05:19:45.305324",
     "exception": false,
     "start_time": "2023-11-03T05:19:45.274678",
     "status": "completed"
    },
    "tags": []
   },
   "source": [
    "## Load Dataset"
   ]
  },
  {
   "cell_type": "markdown",
   "id": "a84119ba",
   "metadata": {
    "papermill": {
     "duration": 0.030399,
     "end_time": "2023-11-03T05:19:45.366583",
     "exception": false,
     "start_time": "2023-11-03T05:19:45.336184",
     "status": "completed"
    },
    "tags": []
   },
   "source": [
    "### Source Dataset"
   ]
  },
  {
   "cell_type": "code",
   "execution_count": 2,
   "id": "3ed2ac85",
   "metadata": {
    "execution": {
     "iopub.execute_input": "2023-11-03T05:19:45.433880Z",
     "iopub.status.busy": "2023-11-03T05:19:45.433156Z",
     "iopub.status.idle": "2023-11-03T05:19:45.435443Z",
     "shell.execute_reply": "2023-11-03T05:19:45.436083Z",
     "shell.execute_reply.started": "2023-11-03T05:17:56.636943Z"
    },
    "papermill": {
     "duration": 0.038587,
     "end_time": "2023-11-03T05:19:45.436262",
     "exception": false,
     "start_time": "2023-11-03T05:19:45.397675",
     "status": "completed"
    },
    "tags": []
   },
   "outputs": [],
   "source": [
    "# Load directories\n",
    "train_data_dir = \"../input/kittiroadsegmentation/training/image_2/\"\n",
    "train_gt_dir = \"../input/kittiroadsegmentation/training/gt_image_2/\"\n",
    "\n",
    "test_data_dir = \"../input/kittiroadsegmentation/testing/\""
   ]
  },
  {
   "cell_type": "code",
   "execution_count": 3,
   "id": "708798f0",
   "metadata": {
    "execution": {
     "iopub.execute_input": "2023-11-03T05:19:45.501639Z",
     "iopub.status.busy": "2023-11-03T05:19:45.500877Z",
     "iopub.status.idle": "2023-11-03T05:19:45.714800Z",
     "shell.execute_reply": "2023-11-03T05:19:45.715412Z",
     "shell.execute_reply.started": "2023-11-03T05:17:56.646278Z"
    },
    "papermill": {
     "duration": 0.248354,
     "end_time": "2023-11-03T05:19:45.715626",
     "exception": false,
     "start_time": "2023-11-03T05:19:45.467272",
     "status": "completed"
    },
    "tags": []
   },
   "outputs": [
    {
     "name": "stdout",
     "output_type": "stream",
     "text": [
      "Number of Training Examples: 231\n",
      "Number of Validation Examples: 28\n",
      "Number of Testing Examples: 30\n"
     ]
    }
   ],
   "source": [
    "# Number of training examples\n",
    "TRAINSET_SIZE = int(len(os.listdir(train_data_dir)) * 0.8)\n",
    "print(f\"Number of Training Examples: {TRAINSET_SIZE}\")\n",
    "\n",
    "VALIDSET_SIZE = int(len(os.listdir(train_data_dir)) * 0.1)\n",
    "print(f\"Number of Validation Examples: {VALIDSET_SIZE}\")\n",
    "\n",
    "TESTSET_SIZE = int(len(os.listdir(train_data_dir)) - TRAINSET_SIZE - VALIDSET_SIZE)\n",
    "print(f\"Number of Testing Examples: {TESTSET_SIZE}\")"
   ]
  },
  {
   "cell_type": "code",
   "execution_count": 4,
   "id": "078ec3ce",
   "metadata": {
    "execution": {
     "iopub.execute_input": "2023-11-03T05:19:45.783899Z",
     "iopub.status.busy": "2023-11-03T05:19:45.782796Z",
     "iopub.status.idle": "2023-11-03T05:19:45.787089Z",
     "shell.execute_reply": "2023-11-03T05:19:45.787691Z",
     "shell.execute_reply.started": "2023-11-03T05:17:56.788197Z"
    },
    "papermill": {
     "duration": 0.039877,
     "end_time": "2023-11-03T05:19:45.787893",
     "exception": false,
     "start_time": "2023-11-03T05:19:45.748016",
     "status": "completed"
    },
    "tags": []
   },
   "outputs": [],
   "source": [
    "# Initialize Constants\n",
    "IMG_SIZE = 128\n",
    "N_CHANNELS = 3\n",
    "N_CLASSES = 1\n",
    "SEED = 123"
   ]
  },
  {
   "cell_type": "code",
   "execution_count": 5,
   "id": "571dcfef",
   "metadata": {
    "execution": {
     "iopub.execute_input": "2023-11-03T05:19:45.856652Z",
     "iopub.status.busy": "2023-11-03T05:19:45.855533Z",
     "iopub.status.idle": "2023-11-03T05:19:45.865309Z",
     "shell.execute_reply": "2023-11-03T05:19:45.865897Z",
     "shell.execute_reply.started": "2023-11-03T05:17:56.795976Z"
    },
    "papermill": {
     "duration": 0.046476,
     "end_time": "2023-11-03T05:19:45.866110",
     "exception": false,
     "start_time": "2023-11-03T05:19:45.819634",
     "status": "completed"
    },
    "tags": []
   },
   "outputs": [],
   "source": [
    "# Function to load image and return a dictionary\n",
    "def parse_image(img_path: str) -> dict:\n",
    "    image = tf.io.read_file(img_path)\n",
    "    image = tf.image.decode_jpeg(image, channels=3)\n",
    "    image = tf.image.convert_image_dtype(image, tf.uint8)\n",
    "\n",
    "    # Three types of img paths: um, umm, uu\n",
    "    # gt image paths: um_road, umm_road, uu_road\n",
    "    mask_path = tf.strings.regex_replace(img_path, \"image_2\", \"gt_image_2\")\n",
    "    mask_path = tf.strings.regex_replace(mask_path, \"um_\", \"um_road_\")\n",
    "    mask_path = tf.strings.regex_replace(mask_path, \"umm_\", \"umm_road_\")\n",
    "    mask_path = tf.strings.regex_replace(mask_path, \"uu_\", \"uu_road_\")\n",
    "    \n",
    "    mask = tf.io.read_file(mask_path)\n",
    "    mask = tf.image.decode_png(mask, channels=3)\n",
    "    \n",
    "    non_road_label = np.array([255, 0, 0])\n",
    "    road_label = np.array([255, 0, 255])\n",
    "    other_road_label = np.array([0, 0, 0])\n",
    "    \n",
    "    # Convert to mask to binary mask\n",
    "    mask = tf.experimental.numpy.all(mask == road_label, axis = 2)\n",
    "    mask = tf.cast(mask, tf.uint8)\n",
    "    mask = tf.expand_dims(mask, axis=-1)\n",
    "\n",
    "    return {'image': image, 'segmentation_mask': mask}"
   ]
  },
  {
   "cell_type": "code",
   "execution_count": 6,
   "id": "7669ff45",
   "metadata": {
    "execution": {
     "iopub.execute_input": "2023-11-03T05:19:45.935176Z",
     "iopub.status.busy": "2023-11-03T05:19:45.934169Z",
     "iopub.status.idle": "2023-11-03T05:19:46.238105Z",
     "shell.execute_reply": "2023-11-03T05:19:46.237307Z",
     "shell.execute_reply.started": "2023-11-03T05:17:56.814682Z"
    },
    "papermill": {
     "duration": 0.339077,
     "end_time": "2023-11-03T05:19:46.238276",
     "exception": false,
     "start_time": "2023-11-03T05:19:45.899199",
     "status": "completed"
    },
    "tags": []
   },
   "outputs": [
    {
     "name": "stderr",
     "output_type": "stream",
     "text": [
      "\n",
      "User settings:\n",
      "\n",
      "   KMP_AFFINITY=granularity=fine,verbose,compact,1,0\n",
      "   KMP_BLOCKTIME=0\n",
      "   KMP_SETTINGS=1\n",
      "   KMP_WARNINGS=0\n",
      "\n",
      "Effective settings:\n",
      "\n",
      "   KMP_ABORT_DELAY=0\n",
      "   KMP_ADAPTIVE_LOCK_PROPS='1,1024'\n",
      "   KMP_ALIGN_ALLOC=64\n",
      "   KMP_ALL_THREADPRIVATE=128\n",
      "   KMP_ATOMIC_MODE=2\n",
      "   KMP_BLOCKTIME=0\n",
      "   KMP_CPUINFO_FILE: value is not defined\n",
      "   KMP_DETERMINISTIC_REDUCTION=false\n",
      "   KMP_DEVICE_THREAD_LIMIT=2147483647\n",
      "   KMP_DISP_NUM_BUFFERS=7\n",
      "   KMP_DUPLICATE_LIB_OK=false\n",
      "   KMP_ENABLE_TASK_THROTTLING=true\n",
      "   KMP_FORCE_REDUCTION: value is not defined\n",
      "   KMP_FOREIGN_THREADS_THREADPRIVATE=true\n",
      "   KMP_FORKJOIN_BARRIER='2,2'\n",
      "   KMP_FORKJOIN_BARRIER_PATTERN='hyper,hyper'\n",
      "   KMP_GTID_MODE=3\n",
      "   KMP_HANDLE_SIGNALS=false\n",
      "   KMP_HOT_TEAMS_MAX_LEVEL=1\n",
      "   KMP_HOT_TEAMS_MODE=0\n",
      "   KMP_INIT_AT_FORK=true\n",
      "   KMP_LIBRARY=throughput\n",
      "   KMP_LOCK_KIND=queuing\n",
      "   KMP_MALLOC_POOL_INCR=1M\n",
      "   KMP_NUM_LOCKS_IN_BLOCK=1\n",
      "   KMP_PLAIN_BARRIER='2,2'\n",
      "   KMP_PLAIN_BARRIER_PATTERN='hyper,hyper'\n",
      "   KMP_REDUCTION_BARRIER='1,1'\n",
      "   KMP_REDUCTION_BARRIER_PATTERN='hyper,hyper'\n",
      "   KMP_SCHEDULE='static,balanced;guided,iterative'\n",
      "   KMP_SETTINGS=true\n",
      "   KMP_SPIN_BACKOFF_PARAMS='4096,100'\n",
      "   KMP_STACKOFFSET=64\n",
      "   KMP_STACKPAD=0\n",
      "   KMP_STACKSIZE=8M\n",
      "   KMP_STORAGE_MAP=false\n",
      "   KMP_TASKING=2\n",
      "   KMP_TASKLOOP_MIN_TASKS=0\n",
      "   KMP_TASK_STEALING_CONSTRAINT=1\n",
      "   KMP_TEAMS_THREAD_LIMIT=4\n",
      "   KMP_TOPOLOGY_METHOD=all\n",
      "   KMP_USE_YIELD=1\n",
      "   KMP_VERSION=false\n",
      "   KMP_WARNINGS=false\n",
      "   OMP_AFFINITY_FORMAT='OMP: pid %P tid %i thread %n bound to OS proc set {%A}'\n",
      "   OMP_ALLOCATOR=omp_default_mem_alloc\n",
      "   OMP_CANCELLATION=false\n",
      "   OMP_DEFAULT_DEVICE=0\n",
      "   OMP_DISPLAY_AFFINITY=false\n",
      "   OMP_DISPLAY_ENV=false\n",
      "   OMP_DYNAMIC=false\n",
      "   OMP_MAX_ACTIVE_LEVELS=1\n",
      "   OMP_MAX_TASK_PRIORITY=0\n",
      "   OMP_NESTED: deprecated; max-active-levels-var=1\n",
      "   OMP_NUM_THREADS: value is not defined\n",
      "   OMP_PLACES: value is not defined\n",
      "   OMP_PROC_BIND='intel'\n",
      "   OMP_SCHEDULE='static'\n",
      "   OMP_STACKSIZE=8M\n",
      "   OMP_TARGET_OFFLOAD=DEFAULT\n",
      "   OMP_THREAD_LIMIT=2147483647\n",
      "   OMP_WAIT_POLICY=PASSIVE\n",
      "   KMP_AFFINITY='verbose,warnings,respect,granularity=fine,compact,1,0'\n",
      "\n"
     ]
    }
   ],
   "source": [
    "# Generate dataset variables\n",
    "all_dataset = tf.data.Dataset.list_files(train_data_dir + \"*.png\", seed=SEED)\n",
    "all_dataset = all_dataset.map(parse_image)\n",
    "\n",
    "train_dataset = all_dataset.take(TRAINSET_SIZE + VALIDSET_SIZE)\n",
    "val_dataset = train_dataset.skip(TRAINSET_SIZE)\n",
    "train_dataset = train_dataset.take(TRAINSET_SIZE)\n",
    "test_dataset = all_dataset.skip(TRAINSET_SIZE + VALIDSET_SIZE)"
   ]
  },
  {
   "cell_type": "markdown",
   "id": "0b113700",
   "metadata": {
    "papermill": {
     "duration": 0.031768,
     "end_time": "2023-11-03T05:19:46.302101",
     "exception": false,
     "start_time": "2023-11-03T05:19:46.270333",
     "status": "completed"
    },
    "tags": []
   },
   "source": [
    "### Apply Transformations"
   ]
  },
  {
   "cell_type": "code",
   "execution_count": 7,
   "id": "ac97c7c0",
   "metadata": {
    "execution": {
     "iopub.execute_input": "2023-11-03T05:19:46.377554Z",
     "iopub.status.busy": "2023-11-03T05:19:46.376804Z",
     "iopub.status.idle": "2023-11-03T05:19:46.380272Z",
     "shell.execute_reply": "2023-11-03T05:19:46.380837Z",
     "shell.execute_reply.started": "2023-11-03T05:17:57.217062Z"
    },
    "papermill": {
     "duration": 0.045755,
     "end_time": "2023-11-03T05:19:46.381022",
     "exception": false,
     "start_time": "2023-11-03T05:19:46.335267",
     "status": "completed"
    },
    "tags": []
   },
   "outputs": [],
   "source": [
    "# Tensorflow function to rescale images to [0, 1]\n",
    "@tf.function\n",
    "def normalize(input_image: tf.Tensor, input_mask: tf.Tensor) -> tuple:\n",
    "    input_image = tf.cast(input_image, tf.float32) / 255.0\n",
    "    return input_image, input_mask\n",
    "\n",
    "# Tensorflow function to apply preprocessing transformations\n",
    "@tf.function\n",
    "def load_image_train(datapoint: dict) -> tuple:\n",
    "    input_image = tf.image.resize(datapoint['image'], (IMG_SIZE, IMG_SIZE))\n",
    "    input_mask = tf.image.resize(datapoint['segmentation_mask'], (IMG_SIZE, IMG_SIZE))\n",
    "\n",
    "    if tf.random.uniform(()) > 0.5:\n",
    "        input_image = tf.image.flip_left_right(input_image)\n",
    "        input_mask = tf.image.flip_left_right(input_mask)\n",
    "\n",
    "    input_image, input_mask = normalize(input_image, input_mask)\n",
    "\n",
    "    return input_image, input_mask\n",
    "\n",
    "# Tensorflow function to preprocess validation images\n",
    "@tf.function\n",
    "def load_image_test(datapoint: dict) -> tuple:\n",
    "    input_image = tf.image.resize(datapoint['image'], (IMG_SIZE, IMG_SIZE))\n",
    "    input_mask = tf.image.resize(datapoint['segmentation_mask'], (IMG_SIZE, IMG_SIZE))\n",
    "\n",
    "    input_image, input_mask = normalize(input_image, input_mask)\n",
    "\n",
    "    return input_image, input_mask"
   ]
  },
  {
   "cell_type": "code",
   "execution_count": 8,
   "id": "461224fe",
   "metadata": {
    "execution": {
     "iopub.execute_input": "2023-11-03T05:19:46.449632Z",
     "iopub.status.busy": "2023-11-03T05:19:46.448936Z",
     "iopub.status.idle": "2023-11-03T05:19:46.719319Z",
     "shell.execute_reply": "2023-11-03T05:19:46.720020Z",
     "shell.execute_reply.started": "2023-11-03T05:17:57.231427Z"
    },
    "papermill": {
     "duration": 0.306884,
     "end_time": "2023-11-03T05:19:46.720229",
     "exception": false,
     "start_time": "2023-11-03T05:19:46.413345",
     "status": "completed"
    },
    "tags": []
   },
   "outputs": [
    {
     "name": "stdout",
     "output_type": "stream",
     "text": [
      "<PrefetchDataset shapes: ((None, 128, 128, 3), (None, 128, 128, 1)), types: (tf.float32, tf.float32)>\n",
      "<PrefetchDataset shapes: ((None, 128, 128, 3), (None, 128, 128, 1)), types: (tf.float32, tf.float32)>\n",
      "<PrefetchDataset shapes: ((None, 128, 128, 3), (None, 128, 128, 1)), types: (tf.float32, tf.float32)>\n"
     ]
    }
   ],
   "source": [
    "BATCH_SIZE = 32\n",
    "BUFFER_SIZE = 1000\n",
    "\n",
    "dataset = {\"train\": train_dataset, \"val\": val_dataset, \"test\": test_dataset}\n",
    "\n",
    "# -- Train Dataset --#\n",
    "dataset['train'] = dataset['train'].map(load_image_train, num_parallel_calls=tf.data.AUTOTUNE)\n",
    "dataset['train'] = dataset['train'].shuffle(buffer_size=BUFFER_SIZE, seed=SEED)\n",
    "dataset['train'] = dataset['train'].repeat()\n",
    "dataset['train'] = dataset['train'].batch(BATCH_SIZE)\n",
    "dataset['train'] = dataset['train'].prefetch(buffer_size=tf.data.AUTOTUNE)\n",
    "\n",
    "#-- Validation Dataset --#\n",
    "dataset['val'] = dataset['val'].map(load_image_test)\n",
    "dataset['val'] = dataset['val'].repeat()\n",
    "dataset['val'] = dataset['val'].batch(BATCH_SIZE)\n",
    "dataset['val'] = dataset['val'].prefetch(buffer_size=tf.data.AUTOTUNE)\n",
    "\n",
    "#-- Testing Dataset --#\n",
    "dataset['test'] = dataset['test'].map(load_image_test)\n",
    "dataset['test'] = dataset['test'].batch(BATCH_SIZE)\n",
    "dataset['test'] = dataset['test'].prefetch(buffer_size=tf.data.AUTOTUNE)\n",
    "\n",
    "print(dataset['train'])\n",
    "print(dataset['val'])\n",
    "print(dataset['test'])"
   ]
  },
  {
   "cell_type": "code",
   "execution_count": 9,
   "id": "61192831",
   "metadata": {
    "execution": {
     "iopub.execute_input": "2023-11-03T05:19:46.789090Z",
     "iopub.status.busy": "2023-11-03T05:19:46.788297Z",
     "iopub.status.idle": "2023-11-03T05:19:55.337783Z",
     "shell.execute_reply": "2023-11-03T05:19:55.338350Z",
     "shell.execute_reply.started": "2023-11-03T05:17:57.604284Z"
    },
    "papermill": {
     "duration": 8.585706,
     "end_time": "2023-11-03T05:19:55.338537",
     "exception": false,
     "start_time": "2023-11-03T05:19:46.752831",
     "status": "completed"
    },
    "tags": []
   },
   "outputs": [
    {
     "data": {
      "image/png": "[encoded data removed]",
      "text/plain": [
       "<Figure size 1296x1296 with 2 Axes>"
      ]
     },
     "metadata": {
      "needs_background": "light"
     },
     "output_type": "display_data"
    }
   ],
   "source": [
    "# Function to view the images from the directory\n",
    "def display_sample(display_list):\n",
    "    plt.figure(figsize=(18, 18))\n",
    "\n",
    "    title = ['Input Image', 'True Mask', 'Predicted Mask']\n",
    "\n",
    "    for i in range(len(display_list)):\n",
    "        plt.subplot(1, len(display_list), i+1)\n",
    "        plt.title(title[i])\n",
    "        plt.imshow(tf.keras.preprocessing.image.array_to_img(display_list[i]))\n",
    "        plt.axis('off')\n",
    "        \n",
    "    plt.show()\n",
    "    \n",
    "for image, mask in dataset[\"train\"].take(1):\n",
    "    sample_image, sample_mask = image, mask\n",
    "\n",
    "display_sample([sample_image[0], sample_mask[0]])"
   ]
  },
  {
   "cell_type": "markdown",
   "id": "88930252",
   "metadata": {
    "papermill": {
     "duration": 0.035024,
     "end_time": "2023-11-03T05:19:55.410953",
     "exception": false,
     "start_time": "2023-11-03T05:19:55.375929",
     "status": "completed"
    },
    "tags": []
   },
   "source": [
    "## Define Network"
   ]
  },
  {
   "cell_type": "code",
   "execution_count": 10,
   "id": "9dbf6ea4",
   "metadata": {
    "execution": {
     "iopub.execute_input": "2023-11-03T05:19:55.489860Z",
     "iopub.status.busy": "2023-11-03T05:19:55.489112Z",
     "iopub.status.idle": "2023-11-03T05:20:17.199204Z",
     "shell.execute_reply": "2023-11-03T05:20:17.198387Z",
     "shell.execute_reply.started": "2023-11-03T05:18:06.286445Z"
    },
    "papermill": {
     "duration": 21.752432,
     "end_time": "2023-11-03T05:20:17.199555",
     "exception": true,
     "start_time": "2023-11-03T05:19:55.447123",
     "status": "failed"
    },
    "tags": []
   },
   "outputs": [
    {
     "name": "stdout",
     "output_type": "stream",
     "text": [
      "Downloading data from https://storage.googleapis.com/tensorflow/keras-applications/vgg16/vgg16_weights_tf_dim_ordering_tf_kernels.h5\n"
     ]
    },
    {
     "ename": "Exception",
     "evalue": "URL fetch failure on https://storage.googleapis.com/tensorflow/keras-applications/vgg16/vgg16_weights_tf_dim_ordering_tf_kernels.h5: None -- [Errno -3] Temporary failure in name resolution",
     "output_type": "error",
     "traceback": [
      "\u001b[0;31m---------------------------------------------------------------------------\u001b[0m",
      "\u001b[0;31mgaierror\u001b[0m                                  Traceback (most recent call last)",
      "\u001b[0;32m/opt/conda/lib/python3.7/urllib/request.py\u001b[0m in \u001b[0;36mdo_open\u001b[0;34m(self, http_class, req, **http_conn_args)\u001b[0m\n\u001b[1;32m   1349\u001b[0m                 h.request(req.get_method(), req.selector, req.data, headers,\n\u001b[0;32m-> 1350\u001b[0;31m                           encode_chunked=req.has_header('Transfer-encoding'))\n\u001b[0m\u001b[1;32m   1351\u001b[0m             \u001b[0;32mexcept\u001b[0m \u001b[0mOSError\u001b[0m \u001b[0;32mas\u001b[0m \u001b[0merr\u001b[0m\u001b[0;34m:\u001b[0m \u001b[0;31m# timeout error\u001b[0m\u001b[0;34m\u001b[0m\u001b[0;34m\u001b[0m\u001b[0m\n",
      "\u001b[0;32m/opt/conda/lib/python3.7/http/client.py\u001b[0m in \u001b[0;36mrequest\u001b[0;34m(self, method, url, body, headers, encode_chunked)\u001b[0m\n\u001b[1;32m   1276\u001b[0m         \u001b[0;34m\"\"\"Send a complete request to the server.\"\"\"\u001b[0m\u001b[0;34m\u001b[0m\u001b[0;34m\u001b[0m\u001b[0m\n\u001b[0;32m-> 1277\u001b[0;31m         \u001b[0mself\u001b[0m\u001b[0;34m.\u001b[0m\u001b[0m_send_request\u001b[0m\u001b[0;34m(\u001b[0m\u001b[0mmethod\u001b[0m\u001b[0;34m,\u001b[0m \u001b[0murl\u001b[0m\u001b[0;34m,\u001b[0m \u001b[0mbody\u001b[0m\u001b[0;34m,\u001b[0m \u001b[0mheaders\u001b[0m\u001b[0;34m,\u001b[0m \u001b[0mencode_chunked\u001b[0m\u001b[0;34m)\u001b[0m\u001b[0;34m\u001b[0m\u001b[0;34m\u001b[0m\u001b[0m\n\u001b[0m\u001b[1;32m   1278\u001b[0m \u001b[0;34m\u001b[0m\u001b[0m\n",
      "\u001b[0;32m/opt/conda/lib/python3.7/http/client.py\u001b[0m in \u001b[0;36m_send_request\u001b[0;34m(self, method, url, body, headers, encode_chunked)\u001b[0m\n\u001b[1;32m   1322\u001b[0m             \u001b[0mbody\u001b[0m \u001b[0;34m=\u001b[0m \u001b[0m_encode\u001b[0m\u001b[0;34m(\u001b[0m\u001b[0mbody\u001b[0m\u001b[0;34m,\u001b[0m \u001b[0;34m'body'\u001b[0m\u001b[0;34m)\u001b[0m\u001b[0;34m\u001b[0m\u001b[0;34m\u001b[0m\u001b[0m\n\u001b[0;32m-> 1323\u001b[0;31m         \u001b[0mself\u001b[0m\u001b[0;34m.\u001b[0m\u001b[0mendheaders\u001b[0m\u001b[0;34m(\u001b[0m\u001b[0mbody\u001b[0m\u001b[0;34m,\u001b[0m \u001b[0mencode_chunked\u001b[0m\u001b[0;34m=\u001b[0m\u001b[0mencode_chunked\u001b[0m\u001b[0;34m)\u001b[0m\u001b[0;34m\u001b[0m\u001b[0;34m\u001b[0m\u001b[0m\n\u001b[0m\u001b[1;32m   1324\u001b[0m \u001b[0;34m\u001b[0m\u001b[0m\n",
      "\u001b[0;32m/opt/conda/lib/python3.7/http/client.py\u001b[0m in \u001b[0;36mendheaders\u001b[0;34m(self, message_body, encode_chunked)\u001b[0m\n\u001b[1;32m   1271\u001b[0m             \u001b[0;32mraise\u001b[0m \u001b[0mCannotSendHeader\u001b[0m\u001b[0;34m(\u001b[0m\u001b[0;34m)\u001b[0m\u001b[0;34m\u001b[0m\u001b[0;34m\u001b[0m\u001b[0m\n\u001b[0;32m-> 1272\u001b[0;31m         \u001b[0mself\u001b[0m\u001b[0;34m.\u001b[0m\u001b[0m_send_output\u001b[0m\u001b[0;34m(\u001b[0m\u001b[0mmessage_body\u001b[0m\u001b[0;34m,\u001b[0m \u001b[0mencode_chunked\u001b[0m\u001b[0;34m=\u001b[0m\u001b[0mencode_chunked\u001b[0m\u001b[0;34m)\u001b[0m\u001b[0;34m\u001b[0m\u001b[0;34m\u001b[0m\u001b[0m\n\u001b[0m\u001b[1;32m   1273\u001b[0m \u001b[0;34m\u001b[0m\u001b[0m\n",
      "\u001b[0;32m/opt/conda/lib/python3.7/http/client.py\u001b[0m in \u001b[0;36m_send_output\u001b[0;34m(self, message_body, encode_chunked)\u001b[0m\n\u001b[1;32m   1031\u001b[0m         \u001b[0;32mdel\u001b[0m \u001b[0mself\u001b[0m\u001b[0;34m.\u001b[0m\u001b[0m_buffer\u001b[0m\u001b[0;34m[\u001b[0m\u001b[0;34m:\u001b[0m\u001b[0;34m]\u001b[0m\u001b[0;34m\u001b[0m\u001b[0;34m\u001b[0m\u001b[0m\n\u001b[0;32m-> 1032\u001b[0;31m         \u001b[0mself\u001b[0m\u001b[0;34m.\u001b[0m\u001b[0msend\u001b[0m\u001b[0;34m(\u001b[0m\u001b[0mmsg\u001b[0m\u001b[0;34m)\u001b[0m\u001b[0;34m\u001b[0m\u001b[0;34m\u001b[0m\u001b[0m\n\u001b[0m\u001b[1;32m   1033\u001b[0m \u001b[0;34m\u001b[0m\u001b[0m\n",
      "\u001b[0;32m/opt/conda/lib/python3.7/http/client.py\u001b[0m in \u001b[0;36msend\u001b[0;34m(self, data)\u001b[0m\n\u001b[1;32m    971\u001b[0m             \u001b[0;32mif\u001b[0m \u001b[0mself\u001b[0m\u001b[0;34m.\u001b[0m\u001b[0mauto_open\u001b[0m\u001b[0;34m:\u001b[0m\u001b[0;34m\u001b[0m\u001b[0;34m\u001b[0m\u001b[0m\n\u001b[0;32m--> 972\u001b[0;31m                 \u001b[0mself\u001b[0m\u001b[0;34m.\u001b[0m\u001b[0mconnect\u001b[0m\u001b[0;34m(\u001b[0m\u001b[0;34m)\u001b[0m\u001b[0;34m\u001b[0m\u001b[0;34m\u001b[0m\u001b[0m\n\u001b[0m\u001b[1;32m    973\u001b[0m             \u001b[0;32melse\u001b[0m\u001b[0;34m:\u001b[0m\u001b[0;34m\u001b[0m\u001b[0;34m\u001b[0m\u001b[0m\n",
      "\u001b[0;32m/opt/conda/lib/python3.7/http/client.py\u001b[0m in \u001b[0;36mconnect\u001b[0;34m(self)\u001b[0m\n\u001b[1;32m   1438\u001b[0m \u001b[0;34m\u001b[0m\u001b[0m\n\u001b[0;32m-> 1439\u001b[0;31m             \u001b[0msuper\u001b[0m\u001b[0;34m(\u001b[0m\u001b[0;34m)\u001b[0m\u001b[0;34m.\u001b[0m\u001b[0mconnect\u001b[0m\u001b[0;34m(\u001b[0m\u001b[0;34m)\u001b[0m\u001b[0;34m\u001b[0m\u001b[0;34m\u001b[0m\u001b[0m\n\u001b[0m\u001b[1;32m   1440\u001b[0m \u001b[0;34m\u001b[0m\u001b[0m\n",
      "\u001b[0;32m/opt/conda/lib/python3.7/http/client.py\u001b[0m in \u001b[0;36mconnect\u001b[0;34m(self)\u001b[0m\n\u001b[1;32m    943\u001b[0m         self.sock = self._create_connection(\n\u001b[0;32m--> 944\u001b[0;31m             (self.host,self.port), self.timeout, self.source_address)\n\u001b[0m\u001b[1;32m    945\u001b[0m         \u001b[0mself\u001b[0m\u001b[0;34m.\u001b[0m\u001b[0msock\u001b[0m\u001b[0;34m.\u001b[0m\u001b[0msetsockopt\u001b[0m\u001b[0;34m(\u001b[0m\u001b[0msocket\u001b[0m\u001b[0;34m.\u001b[0m\u001b[0mIPPROTO_TCP\u001b[0m\u001b[0;34m,\u001b[0m \u001b[0msocket\u001b[0m\u001b[0;34m.\u001b[0m\u001b[0mTCP_NODELAY\u001b[0m\u001b[0;34m,\u001b[0m \u001b[0;36m1\u001b[0m\u001b[0;34m)\u001b[0m\u001b[0;34m\u001b[0m\u001b[0;34m\u001b[0m\u001b[0m\n",
      "\u001b[0;32m/opt/conda/lib/python3.7/socket.py\u001b[0m in \u001b[0;36mcreate_connection\u001b[0;34m(address, timeout, source_address)\u001b[0m\n\u001b[1;32m    706\u001b[0m     \u001b[0merr\u001b[0m \u001b[0;34m=\u001b[0m \u001b[0;32mNone\u001b[0m\u001b[0;34m\u001b[0m\u001b[0;34m\u001b[0m\u001b[0m\n\u001b[0;32m--> 707\u001b[0;31m     \u001b[0;32mfor\u001b[0m \u001b[0mres\u001b[0m \u001b[0;32min\u001b[0m \u001b[0mgetaddrinfo\u001b[0m\u001b[0;34m(\u001b[0m\u001b[0mhost\u001b[0m\u001b[0;34m,\u001b[0m \u001b[0mport\u001b[0m\u001b[0;34m,\u001b[0m \u001b[0;36m0\u001b[0m\u001b[0;34m,\u001b[0m \u001b[0mSOCK_STREAM\u001b[0m\u001b[0;34m)\u001b[0m\u001b[0;34m:\u001b[0m\u001b[0;34m\u001b[0m\u001b[0;34m\u001b[0m\u001b[0m\n\u001b[0m\u001b[1;32m    708\u001b[0m         \u001b[0maf\u001b[0m\u001b[0;34m,\u001b[0m \u001b[0msocktype\u001b[0m\u001b[0;34m,\u001b[0m \u001b[0mproto\u001b[0m\u001b[0;34m,\u001b[0m \u001b[0mcanonname\u001b[0m\u001b[0;34m,\u001b[0m \u001b[0msa\u001b[0m \u001b[0;34m=\u001b[0m \u001b[0mres\u001b[0m\u001b[0;34m\u001b[0m\u001b[0;34m\u001b[0m\u001b[0m\n",
      "\u001b[0;32m/opt/conda/lib/python3.7/socket.py\u001b[0m in \u001b[0;36mgetaddrinfo\u001b[0;34m(host, port, family, type, proto, flags)\u001b[0m\n\u001b[1;32m    751\u001b[0m     \u001b[0maddrlist\u001b[0m \u001b[0;34m=\u001b[0m \u001b[0;34m[\u001b[0m\u001b[0;34m]\u001b[0m\u001b[0;34m\u001b[0m\u001b[0;34m\u001b[0m\u001b[0m\n\u001b[0;32m--> 752\u001b[0;31m     \u001b[0;32mfor\u001b[0m \u001b[0mres\u001b[0m \u001b[0;32min\u001b[0m \u001b[0m_socket\u001b[0m\u001b[0;34m.\u001b[0m\u001b[0mgetaddrinfo\u001b[0m\u001b[0;34m(\u001b[0m\u001b[0mhost\u001b[0m\u001b[0;34m,\u001b[0m \u001b[0mport\u001b[0m\u001b[0;34m,\u001b[0m \u001b[0mfamily\u001b[0m\u001b[0;34m,\u001b[0m \u001b[0mtype\u001b[0m\u001b[0;34m,\u001b[0m \u001b[0mproto\u001b[0m\u001b[0;34m,\u001b[0m \u001b[0mflags\u001b[0m\u001b[0;34m)\u001b[0m\u001b[0;34m:\u001b[0m\u001b[0;34m\u001b[0m\u001b[0;34m\u001b[0m\u001b[0m\n\u001b[0m\u001b[1;32m    753\u001b[0m         \u001b[0maf\u001b[0m\u001b[0;34m,\u001b[0m \u001b[0msocktype\u001b[0m\u001b[0;34m,\u001b[0m \u001b[0mproto\u001b[0m\u001b[0;34m,\u001b[0m \u001b[0mcanonname\u001b[0m\u001b[0;34m,\u001b[0m \u001b[0msa\u001b[0m \u001b[0;34m=\u001b[0m \u001b[0mres\u001b[0m\u001b[0;34m\u001b[0m\u001b[0;34m\u001b[0m\u001b[0m\n",
      "\u001b[0;31mgaierror\u001b[0m: [Errno -3] Temporary failure in name resolution",
      "\nDuring handling of the above exception, another exception occurred:\n",
      "\u001b[0;31mURLError\u001b[0m                                  Traceback (most recent call last)",
      "\u001b[0;32m/opt/conda/lib/python3.7/site-packages/keras/utils/data_utils.py\u001b[0m in \u001b[0;36mget_file\u001b[0;34m(fname, origin, untar, md5_hash, file_hash, cache_subdir, hash_algorithm, extract, archive_format, cache_dir)\u001b[0m\n\u001b[1;32m    273\u001b[0m       \u001b[0;32mtry\u001b[0m\u001b[0;34m:\u001b[0m\u001b[0;34m\u001b[0m\u001b[0;34m\u001b[0m\u001b[0m\n\u001b[0;32m--> 274\u001b[0;31m         \u001b[0murlretrieve\u001b[0m\u001b[0;34m(\u001b[0m\u001b[0morigin\u001b[0m\u001b[0;34m,\u001b[0m \u001b[0mfpath\u001b[0m\u001b[0;34m,\u001b[0m \u001b[0mdl_progress\u001b[0m\u001b[0;34m)\u001b[0m\u001b[0;34m\u001b[0m\u001b[0;34m\u001b[0m\u001b[0m\n\u001b[0m\u001b[1;32m    275\u001b[0m       \u001b[0;32mexcept\u001b[0m \u001b[0murllib\u001b[0m\u001b[0;34m.\u001b[0m\u001b[0merror\u001b[0m\u001b[0;34m.\u001b[0m\u001b[0mHTTPError\u001b[0m \u001b[0;32mas\u001b[0m \u001b[0me\u001b[0m\u001b[0;34m:\u001b[0m\u001b[0;34m\u001b[0m\u001b[0;34m\u001b[0m\u001b[0m\n",
      "\u001b[0;32m/opt/conda/lib/python3.7/site-packages/keras/utils/data_utils.py\u001b[0m in \u001b[0;36murlretrieve\u001b[0;34m(url, filename, reporthook, data)\u001b[0m\n\u001b[1;32m     81\u001b[0m \u001b[0;34m\u001b[0m\u001b[0m\n\u001b[0;32m---> 82\u001b[0;31m     \u001b[0mresponse\u001b[0m \u001b[0;34m=\u001b[0m \u001b[0murlopen\u001b[0m\u001b[0;34m(\u001b[0m\u001b[0murl\u001b[0m\u001b[0;34m,\u001b[0m \u001b[0mdata\u001b[0m\u001b[0;34m)\u001b[0m\u001b[0;34m\u001b[0m\u001b[0;34m\u001b[0m\u001b[0m\n\u001b[0m\u001b[1;32m     83\u001b[0m     \u001b[0;32mwith\u001b[0m \u001b[0mopen\u001b[0m\u001b[0;34m(\u001b[0m\u001b[0mfilename\u001b[0m\u001b[0;34m,\u001b[0m \u001b[0;34m'wb'\u001b[0m\u001b[0;34m)\u001b[0m \u001b[0;32mas\u001b[0m \u001b[0mfd\u001b[0m\u001b[0;34m:\u001b[0m\u001b[0;34m\u001b[0m\u001b[0;34m\u001b[0m\u001b[0m\n",
      "\u001b[0;32m/opt/conda/lib/python3.7/urllib/request.py\u001b[0m in \u001b[0;36murlopen\u001b[0;34m(url, data, timeout, cafile, capath, cadefault, context)\u001b[0m\n\u001b[1;32m    221\u001b[0m         \u001b[0mopener\u001b[0m \u001b[0;34m=\u001b[0m \u001b[0m_opener\u001b[0m\u001b[0;34m\u001b[0m\u001b[0;34m\u001b[0m\u001b[0m\n\u001b[0;32m--> 222\u001b[0;31m     \u001b[0;32mreturn\u001b[0m \u001b[0mopener\u001b[0m\u001b[0;34m.\u001b[0m\u001b[0mopen\u001b[0m\u001b[0;34m(\u001b[0m\u001b[0murl\u001b[0m\u001b[0;34m,\u001b[0m \u001b[0mdata\u001b[0m\u001b[0;34m,\u001b[0m \u001b[0mtimeout\u001b[0m\u001b[0;34m)\u001b[0m\u001b[0;34m\u001b[0m\u001b[0;34m\u001b[0m\u001b[0m\n\u001b[0m\u001b[1;32m    223\u001b[0m \u001b[0;34m\u001b[0m\u001b[0m\n",
      "\u001b[0;32m/opt/conda/lib/python3.7/urllib/request.py\u001b[0m in \u001b[0;36mopen\u001b[0;34m(self, fullurl, data, timeout)\u001b[0m\n\u001b[1;32m    524\u001b[0m \u001b[0;34m\u001b[0m\u001b[0m\n\u001b[0;32m--> 525\u001b[0;31m         \u001b[0mresponse\u001b[0m \u001b[0;34m=\u001b[0m \u001b[0mself\u001b[0m\u001b[0;34m.\u001b[0m\u001b[0m_open\u001b[0m\u001b[0;34m(\u001b[0m\u001b[0mreq\u001b[0m\u001b[0;34m,\u001b[0m \u001b[0mdata\u001b[0m\u001b[0;34m)\u001b[0m\u001b[0;34m\u001b[0m\u001b[0;34m\u001b[0m\u001b[0m\n\u001b[0m\u001b[1;32m    526\u001b[0m \u001b[0;34m\u001b[0m\u001b[0m\n",
      "\u001b[0;32m/opt/conda/lib/python3.7/urllib/request.py\u001b[0m in \u001b[0;36m_open\u001b[0;34m(self, req, data)\u001b[0m\n\u001b[1;32m    542\u001b[0m         result = self._call_chain(self.handle_open, protocol, protocol +\n\u001b[0;32m--> 543\u001b[0;31m                                   '_open', req)\n\u001b[0m\u001b[1;32m    544\u001b[0m         \u001b[0;32mif\u001b[0m \u001b[0mresult\u001b[0m\u001b[0;34m:\u001b[0m\u001b[0;34m\u001b[0m\u001b[0;34m\u001b[0m\u001b[0m\n",
      "\u001b[0;32m/opt/conda/lib/python3.7/urllib/request.py\u001b[0m in \u001b[0;36m_call_chain\u001b[0;34m(self, chain, kind, meth_name, *args)\u001b[0m\n\u001b[1;32m    502\u001b[0m             \u001b[0mfunc\u001b[0m \u001b[0;34m=\u001b[0m \u001b[0mgetattr\u001b[0m\u001b[0;34m(\u001b[0m\u001b[0mhandler\u001b[0m\u001b[0;34m,\u001b[0m \u001b[0mmeth_name\u001b[0m\u001b[0;34m)\u001b[0m\u001b[0;34m\u001b[0m\u001b[0;34m\u001b[0m\u001b[0m\n\u001b[0;32m--> 503\u001b[0;31m             \u001b[0mresult\u001b[0m \u001b[0;34m=\u001b[0m \u001b[0mfunc\u001b[0m\u001b[0;34m(\u001b[0m\u001b[0;34m*\u001b[0m\u001b[0margs\u001b[0m\u001b[0;34m)\u001b[0m\u001b[0;34m\u001b[0m\u001b[0;34m\u001b[0m\u001b[0m\n\u001b[0m\u001b[1;32m    504\u001b[0m             \u001b[0;32mif\u001b[0m \u001b[0mresult\u001b[0m \u001b[0;32mis\u001b[0m \u001b[0;32mnot\u001b[0m \u001b[0;32mNone\u001b[0m\u001b[0;34m:\u001b[0m\u001b[0;34m\u001b[0m\u001b[0;34m\u001b[0m\u001b[0m\n",
      "\u001b[0;32m/opt/conda/lib/python3.7/urllib/request.py\u001b[0m in \u001b[0;36mhttps_open\u001b[0;34m(self, req)\u001b[0m\n\u001b[1;32m   1392\u001b[0m             return self.do_open(http.client.HTTPSConnection, req,\n\u001b[0;32m-> 1393\u001b[0;31m                 context=self._context, check_hostname=self._check_hostname)\n\u001b[0m\u001b[1;32m   1394\u001b[0m \u001b[0;34m\u001b[0m\u001b[0m\n",
      "\u001b[0;32m/opt/conda/lib/python3.7/urllib/request.py\u001b[0m in \u001b[0;36mdo_open\u001b[0;34m(self, http_class, req, **http_conn_args)\u001b[0m\n\u001b[1;32m   1351\u001b[0m             \u001b[0;32mexcept\u001b[0m \u001b[0mOSError\u001b[0m \u001b[0;32mas\u001b[0m \u001b[0merr\u001b[0m\u001b[0;34m:\u001b[0m \u001b[0;31m# timeout error\u001b[0m\u001b[0;34m\u001b[0m\u001b[0;34m\u001b[0m\u001b[0m\n\u001b[0;32m-> 1352\u001b[0;31m                 \u001b[0;32mraise\u001b[0m \u001b[0mURLError\u001b[0m\u001b[0;34m(\u001b[0m\u001b[0merr\u001b[0m\u001b[0;34m)\u001b[0m\u001b[0;34m\u001b[0m\u001b[0;34m\u001b[0m\u001b[0m\n\u001b[0m\u001b[1;32m   1353\u001b[0m             \u001b[0mr\u001b[0m \u001b[0;34m=\u001b[0m \u001b[0mh\u001b[0m\u001b[0;34m.\u001b[0m\u001b[0mgetresponse\u001b[0m\u001b[0;34m(\u001b[0m\u001b[0;34m)\u001b[0m\u001b[0;34m\u001b[0m\u001b[0;34m\u001b[0m\u001b[0m\n",
      "\u001b[0;31mURLError\u001b[0m: <urlopen error [Errno -3] Temporary failure in name resolution>",
      "\nDuring handling of the above exception, another exception occurred:\n",
      "\u001b[0;31mException\u001b[0m                                 Traceback (most recent call last)",
      "\u001b[0;32m/tmp/ipykernel_19/1651300727.py\u001b[0m in \u001b[0;36m<module>\u001b[0;34m\u001b[0m\n\u001b[1;32m      1\u001b[0m \u001b[0;31m# Get VGG-16 network as backbone\u001b[0m\u001b[0;34m\u001b[0m\u001b[0;34m\u001b[0m\u001b[0;34m\u001b[0m\u001b[0m\n\u001b[0;32m----> 2\u001b[0;31m \u001b[0mvgg16_model\u001b[0m \u001b[0;34m=\u001b[0m \u001b[0mVGG16\u001b[0m\u001b[0;34m(\u001b[0m\u001b[0;34m)\u001b[0m\u001b[0;34m\u001b[0m\u001b[0;34m\u001b[0m\u001b[0m\n\u001b[0m\u001b[1;32m      3\u001b[0m \u001b[0mvgg16_model\u001b[0m\u001b[0;34m.\u001b[0m\u001b[0msummary\u001b[0m\u001b[0;34m(\u001b[0m\u001b[0;34m)\u001b[0m\u001b[0;34m\u001b[0m\u001b[0;34m\u001b[0m\u001b[0m\n",
      "\u001b[0;32m/opt/conda/lib/python3.7/site-packages/keras/applications/vgg16.py\u001b[0m in \u001b[0;36mVGG16\u001b[0;34m(include_top, weights, input_tensor, input_shape, pooling, classes, classifier_activation)\u001b[0m\n\u001b[1;32m    211\u001b[0m           \u001b[0mWEIGHTS_PATH\u001b[0m\u001b[0;34m,\u001b[0m\u001b[0;34m\u001b[0m\u001b[0;34m\u001b[0m\u001b[0m\n\u001b[1;32m    212\u001b[0m           \u001b[0mcache_subdir\u001b[0m\u001b[0;34m=\u001b[0m\u001b[0;34m'models'\u001b[0m\u001b[0;34m,\u001b[0m\u001b[0;34m\u001b[0m\u001b[0;34m\u001b[0m\u001b[0m\n\u001b[0;32m--> 213\u001b[0;31m           file_hash='64373286793e3c8b2b4e3219cbf3544b')\n\u001b[0m\u001b[1;32m    214\u001b[0m     \u001b[0;32melse\u001b[0m\u001b[0;34m:\u001b[0m\u001b[0;34m\u001b[0m\u001b[0;34m\u001b[0m\u001b[0m\n\u001b[1;32m    215\u001b[0m       weights_path = data_utils.get_file(\n",
      "\u001b[0;32m/opt/conda/lib/python3.7/site-packages/keras/utils/data_utils.py\u001b[0m in \u001b[0;36mget_file\u001b[0;34m(fname, origin, untar, md5_hash, file_hash, cache_subdir, hash_algorithm, extract, archive_format, cache_dir)\u001b[0m\n\u001b[1;32m    276\u001b[0m         \u001b[0;32mraise\u001b[0m \u001b[0mException\u001b[0m\u001b[0;34m(\u001b[0m\u001b[0merror_msg\u001b[0m\u001b[0;34m.\u001b[0m\u001b[0mformat\u001b[0m\u001b[0;34m(\u001b[0m\u001b[0morigin\u001b[0m\u001b[0;34m,\u001b[0m \u001b[0me\u001b[0m\u001b[0;34m.\u001b[0m\u001b[0mcode\u001b[0m\u001b[0;34m,\u001b[0m \u001b[0me\u001b[0m\u001b[0;34m.\u001b[0m\u001b[0mmsg\u001b[0m\u001b[0;34m)\u001b[0m\u001b[0;34m)\u001b[0m\u001b[0;34m\u001b[0m\u001b[0;34m\u001b[0m\u001b[0m\n\u001b[1;32m    277\u001b[0m       \u001b[0;32mexcept\u001b[0m \u001b[0murllib\u001b[0m\u001b[0;34m.\u001b[0m\u001b[0merror\u001b[0m\u001b[0;34m.\u001b[0m\u001b[0mURLError\u001b[0m \u001b[0;32mas\u001b[0m \u001b[0me\u001b[0m\u001b[0;34m:\u001b[0m\u001b[0;34m\u001b[0m\u001b[0;34m\u001b[0m\u001b[0m\n\u001b[0;32m--> 278\u001b[0;31m         \u001b[0;32mraise\u001b[0m \u001b[0mException\u001b[0m\u001b[0;34m(\u001b[0m\u001b[0merror_msg\u001b[0m\u001b[0;34m.\u001b[0m\u001b[0mformat\u001b[0m\u001b[0;34m(\u001b[0m\u001b[0morigin\u001b[0m\u001b[0;34m,\u001b[0m \u001b[0me\u001b[0m\u001b[0;34m.\u001b[0m\u001b[0merrno\u001b[0m\u001b[0;34m,\u001b[0m \u001b[0me\u001b[0m\u001b[0;34m.\u001b[0m\u001b[0mreason\u001b[0m\u001b[0;34m)\u001b[0m\u001b[0;34m)\u001b[0m\u001b[0;34m\u001b[0m\u001b[0;34m\u001b[0m\u001b[0m\n\u001b[0m\u001b[1;32m    279\u001b[0m     \u001b[0;32mexcept\u001b[0m \u001b[0;34m(\u001b[0m\u001b[0mException\u001b[0m\u001b[0;34m,\u001b[0m \u001b[0mKeyboardInterrupt\u001b[0m\u001b[0;34m)\u001b[0m \u001b[0;32mas\u001b[0m \u001b[0me\u001b[0m\u001b[0;34m:\u001b[0m\u001b[0;34m\u001b[0m\u001b[0;34m\u001b[0m\u001b[0m\n\u001b[1;32m    280\u001b[0m       \u001b[0;32mif\u001b[0m \u001b[0mos\u001b[0m\u001b[0;34m.\u001b[0m\u001b[0mpath\u001b[0m\u001b[0;34m.\u001b[0m\u001b[0mexists\u001b[0m\u001b[0;34m(\u001b[0m\u001b[0mfpath\u001b[0m\u001b[0;34m)\u001b[0m\u001b[0;34m:\u001b[0m\u001b[0;34m\u001b[0m\u001b[0;34m\u001b[0m\u001b[0m\n",
      "\u001b[0;31mException\u001b[0m: URL fetch failure on https://storage.googleapis.com/tensorflow/keras-applications/vgg16/vgg16_weights_tf_dim_ordering_tf_kernels.h5: None -- [Errno -3] Temporary failure in name resolution"
     ]
    }
   ],
   "source": [
    "# Get VGG-16 network as backbone\n",
    "vgg16_model = VGG16()\n",
    "vgg16_model.summary()"
   ]
  },
  {
   "cell_type": "code",
   "execution_count": null,
   "id": "0f1f0c1b",
   "metadata": {
    "execution": {
     "iopub.status.busy": "2023-11-03T05:18:28.261713Z",
     "iopub.status.idle": "2023-11-03T05:18:28.262253Z",
     "shell.execute_reply": "2023-11-03T05:18:28.262051Z",
     "shell.execute_reply.started": "2023-11-03T05:18:28.262028Z"
    },
    "papermill": {
     "duration": null,
     "end_time": null,
     "exception": null,
     "start_time": null,
     "status": "pending"
    },
    "tags": []
   },
   "outputs": [],
   "source": [
    "# Define input shape\n",
    "input_shape = (IMG_SIZE, IMG_SIZE, N_CHANNELS)"
   ]
  },
  {
   "cell_type": "code",
   "execution_count": null,
   "id": "f8cd2856",
   "metadata": {
    "execution": {
     "iopub.status.busy": "2023-11-03T05:18:28.263521Z",
     "iopub.status.idle": "2023-11-03T05:18:28.263918Z",
     "shell.execute_reply": "2023-11-03T05:18:28.263720Z",
     "shell.execute_reply.started": "2023-11-03T05:18:28.263701Z"
    },
    "papermill": {
     "duration": null,
     "end_time": null,
     "exception": null,
     "start_time": null,
     "status": "pending"
    },
    "tags": []
   },
   "outputs": [],
   "source": [
    "# Generate a new model using the VGG network\n",
    "# Input\n",
    "inputs = Input(input_shape)\n",
    "\n",
    "# VGG network\n",
    "vgg16_model = VGG16(include_top = False, weights = 'imagenet', input_tensor = inputs)\n",
    "\n",
    "# Encoder Layers\n",
    "c1 = vgg16_model.get_layer(\"block3_pool\").output         \n",
    "c2 = vgg16_model.get_layer(\"block4_pool\").output         \n",
    "c3 = vgg16_model.get_layer(\"block5_pool\").output         \n",
    "\n",
    "# Decoder\n",
    "u1 = UpSampling2D((2, 2), interpolation = 'bilinear')(c3)\n",
    "d1 = Concatenate()([u1, c2])\n",
    "\n",
    "u2 = UpSampling2D((2, 2), interpolation = 'bilinear')(d1)\n",
    "d2 = Concatenate()([u2, c1])\n",
    "\n",
    "# Output\n",
    "u3 = UpSampling2D((8, 8), interpolation = 'bilinear')(d2)\n",
    "outputs = Conv2D(N_CLASSES, 1, activation = 'sigmoid')(u3)\n",
    "\n",
    "model = Model(inputs, outputs, name = \"VGG_FCN8\")"
   ]
  },
  {
   "cell_type": "markdown",
   "id": "3bfd1992",
   "metadata": {
    "papermill": {
     "duration": null,
     "end_time": null,
     "exception": null,
     "start_time": null,
     "status": "pending"
    },
    "tags": []
   },
   "source": [
    "## Training"
   ]
  },
  {
   "cell_type": "markdown",
   "id": "c741e38e",
   "metadata": {
    "papermill": {
     "duration": null,
     "end_time": null,
     "exception": null,
     "start_time": null,
     "status": "pending"
    },
    "tags": []
   },
   "source": [
    "### Loss Function"
   ]
  },
  {
   "cell_type": "code",
   "execution_count": null,
   "id": "1f41c5b1",
   "metadata": {
    "execution": {
     "iopub.status.busy": "2023-11-03T05:18:28.265494Z",
     "iopub.status.idle": "2023-11-03T05:18:28.265921Z",
     "shell.execute_reply": "2023-11-03T05:18:28.265715Z",
     "shell.execute_reply.started": "2023-11-03T05:18:28.265693Z"
    },
    "papermill": {
     "duration": null,
     "end_time": null,
     "exception": null,
     "start_time": null,
     "status": "pending"
    },
    "tags": []
   },
   "outputs": [],
   "source": [
    "m_iou = tf.keras.metrics.MeanIoU(2)\n",
    "model.compile(optimizer=Adam(),\n",
    "              loss=BinaryCrossentropy(),\n",
    "              metrics=[m_iou])"
   ]
  },
  {
   "cell_type": "markdown",
   "id": "f5900445",
   "metadata": {
    "papermill": {
     "duration": null,
     "end_time": null,
     "exception": null,
     "start_time": null,
     "status": "pending"
    },
    "tags": []
   },
   "source": [
    "### Check Model"
   ]
  },
  {
   "cell_type": "code",
   "execution_count": null,
   "id": "12ff8318",
   "metadata": {
    "execution": {
     "iopub.status.busy": "2023-11-03T05:18:28.267175Z",
     "iopub.status.idle": "2023-11-03T05:18:28.267766Z",
     "shell.execute_reply": "2023-11-03T05:18:28.267582Z",
     "shell.execute_reply.started": "2023-11-03T05:18:28.267557Z"
    },
    "papermill": {
     "duration": null,
     "end_time": null,
     "exception": null,
     "start_time": null,
     "status": "pending"
    },
    "tags": []
   },
   "outputs": [],
   "source": [
    "# Function to create a mask out of network prediction\n",
    "def create_mask(pred_mask: tf.Tensor) -> tf.Tensor:\n",
    "    # Round to closest\n",
    "    pred_mask = tf.math.round(pred_mask)\n",
    "    \n",
    "    # [IMG_SIZE, IMG_SIZE] -> [IMG_SIZE, IMG_SIZE, 1]\n",
    "    pred_mask = tf.expand_dims(pred_mask, axis=-1)\n",
    "    return pred_mask\n",
    "\n",
    "# Function to show predictions\n",
    "def show_predictions(dataset=None, num=1):\n",
    "    if dataset:\n",
    "        # Predict and show image from input dataset\n",
    "        for image, mask in dataset.take(num):\n",
    "            pred_mask = model.predict(image)\n",
    "            display_sample([image[0], true_mask, create_mask(pred_mask)])\n",
    "    else:\n",
    "        # Predict and show the sample image\n",
    "        inference = model.predict(sample_image)\n",
    "        display_sample([sample_image[0], sample_mask[0],\n",
    "                        inference[0]])\n",
    "        \n",
    "for image, mask in dataset['train'].take(1):\n",
    "    sample_image, sample_mask = image, mask\n",
    "\n",
    "show_predictions()"
   ]
  },
  {
   "cell_type": "markdown",
   "id": "4cb25a67",
   "metadata": {
    "papermill": {
     "duration": null,
     "end_time": null,
     "exception": null,
     "start_time": null,
     "status": "pending"
    },
    "tags": []
   },
   "source": [
    "### Train Model"
   ]
  },
  {
   "cell_type": "code",
   "execution_count": null,
   "id": "c00daff0",
   "metadata": {
    "execution": {
     "iopub.status.busy": "2023-11-03T05:18:28.269655Z",
     "iopub.status.idle": "2023-11-03T05:18:28.270213Z",
     "shell.execute_reply": "2023-11-03T05:18:28.270004Z",
     "shell.execute_reply.started": "2023-11-03T05:18:28.269982Z"
    },
    "papermill": {
     "duration": null,
     "end_time": null,
     "exception": null,
     "start_time": null,
     "status": "pending"
    },
    "tags": []
   },
   "outputs": [],
   "source": [
    "# Callbacks and Logs\n",
    "class DisplayCallback(callbacks.Callback):\n",
    "    def on_epoch_end(self, epoch, logs=None):\n",
    "        clear_output(wait=True)\n",
    "        show_predictions()\n",
    "        print ('\\nSample Prediction after epoch {}\\n'.format(epoch+1))\n",
    "\n",
    "logdir = os.path.join(\"logs\", datetime.datetime.now().strftime(\"%Y%m%d-%H%M%S\"))\n",
    "\n",
    "callbacks = [\n",
    "    DisplayCallback(),\n",
    "    callbacks.TensorBoard(logdir, histogram_freq = -1),\n",
    "    callbacks.EarlyStopping(patience = 10, verbose = 1),\n",
    "    callbacks.ModelCheckpoint('best_model.h5', verbose = 1, save_best_only = True)\n",
    "]\n",
    "        \n",
    "# Set Variables\n",
    "EPOCHS = 200\n",
    "STEPS_PER_EPOCH = TRAINSET_SIZE // BATCH_SIZE\n",
    "VALIDATION_STEPS = VALIDSET_SIZE // BATCH_SIZE"
   ]
  },
  {
   "cell_type": "code",
   "execution_count": null,
   "id": "75588315",
   "metadata": {
    "execution": {
     "iopub.status.busy": "2023-11-03T05:18:28.271234Z",
     "iopub.status.idle": "2023-11-03T05:18:28.271585Z",
     "shell.execute_reply": "2023-11-03T05:18:28.271416Z",
     "shell.execute_reply.started": "2023-11-03T05:18:28.271397Z"
    },
    "papermill": {
     "duration": null,
     "end_time": null,
     "exception": null,
     "start_time": null,
     "status": "pending"
    },
    "tags": []
   },
   "outputs": [],
   "source": [
    "model_history = model.fit(dataset['train'], epochs=EPOCHS,\n",
    "                          steps_per_epoch=STEPS_PER_EPOCH,\n",
    "                          validation_data = dataset[\"val\"],\n",
    "                          validation_steps=VALIDATION_STEPS,\n",
    "                          callbacks = callbacks)"
   ]
  },
  {
   "cell_type": "markdown",
   "id": "6aa70210",
   "metadata": {
    "papermill": {
     "duration": null,
     "end_time": null,
     "exception": null,
     "start_time": null,
     "status": "pending"
    },
    "tags": []
   },
   "source": [
    "## Testing (Test Dataset)"
   ]
  },
  {
   "cell_type": "code",
   "execution_count": null,
   "id": "f6d1b981",
   "metadata": {
    "execution": {
     "iopub.status.busy": "2023-11-03T05:18:28.273335Z",
     "iopub.status.idle": "2023-11-03T05:18:28.273696Z",
     "shell.execute_reply": "2023-11-03T05:18:28.273525Z",
     "shell.execute_reply.started": "2023-11-03T05:18:28.273507Z"
    },
    "papermill": {
     "duration": null,
     "end_time": null,
     "exception": null,
     "start_time": null,
     "status": "pending"
    },
    "tags": []
   },
   "outputs": [],
   "source": [
    "# Function to calculate mask over image\n",
    "def weighted_img(img, initial_img, α=1., β=0.5, γ=0.):\n",
    "    return cv2.addWeighted(initial_img, α, img, β, γ)\n",
    "\n",
    "# Function to process an individual image and it's mask\n",
    "def process_image_mask(image, mask):\n",
    "    # Round to closest\n",
    "    mask = tf.math.round(mask)\n",
    "    \n",
    "    # Convert to mask image\n",
    "    zero_image = np.zeros_like(mask)\n",
    "    mask = np.dstack((mask, zero_image, zero_image))\n",
    "    mask = np.asarray(mask, np.float32)\n",
    "    \n",
    "    # Convert to image image\n",
    "    image = np.asarray(image, np.float32)\n",
    "    \n",
    "    # Get the final image\n",
    "    final_image = weighted_img(mask, image)\n",
    "\n",
    "    return final_image"
   ]
  },
  {
   "cell_type": "code",
   "execution_count": null,
   "id": "bda03046",
   "metadata": {
    "execution": {
     "iopub.status.busy": "2023-11-03T05:18:28.274984Z",
     "iopub.status.idle": "2023-11-03T05:18:28.275338Z",
     "shell.execute_reply": "2023-11-03T05:18:28.275165Z",
     "shell.execute_reply.started": "2023-11-03T05:18:28.275147Z"
    },
    "papermill": {
     "duration": null,
     "end_time": null,
     "exception": null,
     "start_time": null,
     "status": "pending"
    },
    "tags": []
   },
   "outputs": [],
   "source": [
    "# Function to save predictions\n",
    "def save_predictions(dataset):\n",
    "    # Predict and save image the from input dataset\n",
    "    index = 0\n",
    "    for batch_image, batch_mask in dataset:\n",
    "        for image, mask in zip(batch_image, batch_mask):\n",
    "            print(f\"Processing image : {index}\")\n",
    "            pred_mask = model.predict(tf.expand_dims(image, axis = 0))\n",
    "            save_sample([image, process_image_mask(image, pred_mask[0])], index)\n",
    "            index += 1\n",
    "\n",
    "# Function to save the images as a plot\n",
    "def save_sample(display_list, index):\n",
    "    plt.figure(figsize=(18, 18))\n",
    "\n",
    "    title = ['Input Image', 'Predicted Mask']\n",
    "\n",
    "    for i in range(len(display_list)):\n",
    "        plt.subplot(1, len(display_list), i+1)\n",
    "        plt.title(title[i])\n",
    "        plt.imshow(tf.keras.preprocessing.image.array_to_img(display_list[i]))\n",
    "        plt.axis('off')\n",
    "        \n",
    "    plt.savefig(f\"outputs/{index}.png\")\n",
    "    plt.show()"
   ]
  },
  {
   "cell_type": "code",
   "execution_count": null,
   "id": "6bcecee6",
   "metadata": {
    "execution": {
     "iopub.status.busy": "2023-11-03T05:18:28.276648Z",
     "iopub.status.idle": "2023-11-03T05:18:28.277197Z",
     "shell.execute_reply": "2023-11-03T05:18:28.276993Z",
     "shell.execute_reply.started": "2023-11-03T05:18:28.276973Z"
    },
    "papermill": {
     "duration": null,
     "end_time": null,
     "exception": null,
     "start_time": null,
     "status": "pending"
    },
    "tags": []
   },
   "outputs": [],
   "source": [
    "os.mkdir(\"outputs\")\n",
    "save_predictions(dataset['test'])"
   ]
  },
  {
   "cell_type": "markdown",
   "id": "f88c0d1a",
   "metadata": {
    "papermill": {
     "duration": null,
     "end_time": null,
     "exception": null,
     "start_time": null,
     "status": "pending"
    },
    "tags": []
   },
   "source": [
    "## Testing (Videos)"
   ]
  },
  {
   "cell_type": "code",
   "execution_count": null,
   "id": "4e336edc",
   "metadata": {
    "execution": {
     "iopub.status.busy": "2023-11-03T05:18:28.278521Z",
     "iopub.status.idle": "2023-11-03T05:18:28.278883Z",
     "shell.execute_reply": "2023-11-03T05:18:28.278700Z",
     "shell.execute_reply.started": "2023-11-03T05:18:28.278683Z"
    },
    "papermill": {
     "duration": null,
     "end_time": null,
     "exception": null,
     "start_time": null,
     "status": "pending"
    },
    "tags": []
   },
   "outputs": [],
   "source": [
    "# Function to view video\n",
    "def play(filename):\n",
    "    html = ''\n",
    "    video = open(filename,'rb').read()\n",
    "    src = 'data:video/mp4;base64,' + b64encode(video).decode()\n",
    "    html += '<video width=1000 controls autoplay loop><source src=\"%s\" type=\"video/mp4\"></video>' % src \n",
    "    return HTML(html)"
   ]
  },
  {
   "cell_type": "code",
   "execution_count": null,
   "id": "76417fbc",
   "metadata": {
    "execution": {
     "iopub.status.busy": "2023-11-03T05:18:28.280394Z",
     "iopub.status.idle": "2023-11-03T05:18:28.280780Z",
     "shell.execute_reply": "2023-11-03T05:18:28.280599Z",
     "shell.execute_reply.started": "2023-11-03T05:18:28.280580Z"
    },
    "papermill": {
     "duration": null,
     "end_time": null,
     "exception": null,
     "start_time": null,
     "status": "pending"
    },
    "tags": []
   },
   "outputs": [],
   "source": [
    "# Function to process an individual image\n",
    "def process_image(image):\n",
    "    # Preprocess image\n",
    "    image = cv2.resize(image, (IMG_SIZE, IMG_SIZE))\n",
    "    # Get the binary mask\n",
    "    pred_mask = model.predict(np.expand_dims(image, axis = 0))\n",
    "    mask = np.round_(pred_mask[0])\n",
    "    \n",
    "    # Convert to mask image\n",
    "    zero_image = np.zeros_like(mask)\n",
    "    mask = np.dstack((mask, zero_image, zero_image)) * 255\n",
    "    mask = np.asarray(mask, np.uint8)\n",
    "    \n",
    "    # Get the final image\n",
    "    final_image = weighted_img(mask, image)\n",
    "    final_image = cv2.resize(final_image, (1280, 720))\n",
    "\n",
    "    return final_image"
   ]
  },
  {
   "cell_type": "code",
   "execution_count": null,
   "id": "db980a26",
   "metadata": {
    "execution": {
     "iopub.status.busy": "2023-11-03T05:18:28.282094Z",
     "iopub.status.idle": "2023-11-03T05:18:28.282942Z",
     "shell.execute_reply": "2023-11-03T05:18:28.282627Z",
     "shell.execute_reply.started": "2023-11-03T05:18:28.282591Z"
    },
    "papermill": {
     "duration": null,
     "end_time": null,
     "exception": null,
     "start_time": null,
     "status": "pending"
    },
    "tags": []
   },
   "outputs": [],
   "source": [
    "# Make a new directory\n",
    "os.mkdir(\"videos\")"
   ]
  },
  {
   "cell_type": "markdown",
   "id": "0f71dadc",
   "metadata": {
    "papermill": {
     "duration": null,
     "end_time": null,
     "exception": null,
     "start_time": null,
     "status": "pending"
    },
    "tags": []
   },
   "source": [
    "### Project Video"
   ]
  },
  {
   "cell_type": "code",
   "execution_count": null,
   "id": "1647e726",
   "metadata": {
    "execution": {
     "iopub.status.busy": "2023-11-03T05:18:28.284635Z",
     "iopub.status.idle": "2023-11-03T05:18:28.285431Z",
     "shell.execute_reply": "2023-11-03T05:18:28.285226Z",
     "shell.execute_reply.started": "2023-11-03T05:18:28.285198Z"
    },
    "papermill": {
     "duration": null,
     "end_time": null,
     "exception": null,
     "start_time": null,
     "status": "pending"
    },
    "tags": []
   },
   "outputs": [],
   "source": [
    "# Creating a VideoCapture object to read the video\n",
    "project_video = \"project_video.mp4\"\n",
    "original_video = cv2.VideoCapture(test_data_dir + project_video)\n",
    "frame_width = int(original_video.get(3))\n",
    "frame_height = int(original_video.get(4))\n",
    " \n",
    "# Define the codec and create VideoWriter object.The output is stored in 'outpy.avi' file.\n",
    "fourcc = cv2.VideoWriter_fourcc('m','p','4','v')\n",
    "fps = 60\n",
    "output = cv2.VideoWriter(\"videos/\" + project_video, fourcc, fps, (frame_width,frame_height))\n",
    "\n",
    "# Process Video\n",
    "while(original_video.isOpened()):\n",
    "    ret, frame = original_video.read()\n",
    "\n",
    "    if ret == True:\n",
    "        # Write the frame into the file 'output.avi'\n",
    "        output.write(process_image(frame))\n",
    "\n",
    "    else:\n",
    "        break\n",
    "\n",
    "# When everything done, release the video capture and video write objects\n",
    "original_video.release()\n",
    "output.release()"
   ]
  },
  {
   "cell_type": "code",
   "execution_count": null,
   "id": "b7580838",
   "metadata": {
    "execution": {
     "iopub.status.busy": "2023-11-03T05:18:28.287180Z",
     "iopub.status.idle": "2023-11-03T05:18:28.287738Z",
     "shell.execute_reply": "2023-11-03T05:18:28.287450Z",
     "shell.execute_reply.started": "2023-11-03T05:18:28.287421Z"
    },
    "papermill": {
     "duration": null,
     "end_time": null,
     "exception": null,
     "start_time": null,
     "status": "pending"
    },
    "tags": []
   },
   "outputs": [],
   "source": [
    "play(\"videos/\" + project_video)"
   ]
  },
  {
   "cell_type": "markdown",
   "id": "4e70f46f",
   "metadata": {
    "papermill": {
     "duration": null,
     "end_time": null,
     "exception": null,
     "start_time": null,
     "status": "pending"
    },
    "tags": []
   },
   "source": [
    "### Challenge Video"
   ]
  },
  {
   "cell_type": "code",
   "execution_count": null,
   "id": "bc07bc7f",
   "metadata": {
    "execution": {
     "iopub.status.busy": "2023-11-03T05:18:28.289457Z",
     "iopub.status.idle": "2023-11-03T05:18:28.290453Z",
     "shell.execute_reply": "2023-11-03T05:18:28.290176Z",
     "shell.execute_reply.started": "2023-11-03T05:18:28.290142Z"
    },
    "papermill": {
     "duration": null,
     "end_time": null,
     "exception": null,
     "start_time": null,
     "status": "pending"
    },
    "tags": []
   },
   "outputs": [],
   "source": [
    "# Creating a VideoCapture object to read the video\n",
    "project_video = \"challenge.mp4\"\n",
    "original_video = cv2.VideoCapture(test_data_dir + project_video)\n",
    "frame_width = int(original_video.get(3))\n",
    "frame_height = int(original_video.get(4))\n",
    " \n",
    "# Define the codec and create VideoWriter object.The output is stored in 'outpy.avi' file.\n",
    "fourcc = cv2.VideoWriter_fourcc('m','p','4','v')\n",
    "fps = 60\n",
    "output = cv2.VideoWriter(\"videos/\" + project_video, fourcc, fps, (frame_width,frame_height))\n",
    "\n",
    "# Process Video\n",
    "while(original_video.isOpened()):\n",
    "    ret, frame = original_video.read()\n",
    "\n",
    "    if ret == True:\n",
    "        # Write the frame into the file 'output.avi'\n",
    "        output.write(process_image(frame))\n",
    "\n",
    "    else:\n",
    "        break\n",
    "\n",
    "# When everything done, release the video capture and video write objects\n",
    "original_video.release()\n",
    "output.release()"
   ]
  },
  {
   "cell_type": "code",
   "execution_count": null,
   "id": "50c4013c",
   "metadata": {
    "execution": {
     "iopub.status.busy": "2023-11-03T05:18:28.292032Z",
     "iopub.status.idle": "2023-11-03T05:18:28.292551Z",
     "shell.execute_reply": "2023-11-03T05:18:28.292372Z",
     "shell.execute_reply.started": "2023-11-03T05:18:28.292351Z"
    },
    "papermill": {
     "duration": null,
     "end_time": null,
     "exception": null,
     "start_time": null,
     "status": "pending"
    },
    "tags": []
   },
   "outputs": [],
   "source": [
    "play(\"videos/\" + project_video)"
   ]
  },
  {
   "cell_type": "markdown",
   "id": "b771573f",
   "metadata": {
    "papermill": {
     "duration": null,
     "end_time": null,
     "exception": null,
     "start_time": null,
     "status": "pending"
    },
    "tags": []
   },
   "source": [
    "### Challenge Video 2"
   ]
  },
  {
   "cell_type": "code",
   "execution_count": null,
   "id": "a5eb69c9",
   "metadata": {
    "execution": {
     "iopub.status.busy": "2023-11-03T05:18:28.293534Z",
     "iopub.status.idle": "2023-11-03T05:18:28.294455Z",
     "shell.execute_reply": "2023-11-03T05:18:28.294162Z",
     "shell.execute_reply.started": "2023-11-03T05:18:28.294125Z"
    },
    "papermill": {
     "duration": null,
     "end_time": null,
     "exception": null,
     "start_time": null,
     "status": "pending"
    },
    "tags": []
   },
   "outputs": [],
   "source": [
    "# Creating a VideoCapture object to read the video\n",
    "project_video = \"challenge_video.mp4\"\n",
    "original_video = cv2.VideoCapture(test_data_dir + project_video)\n",
    "frame_width = int(original_video.get(3))\n",
    "frame_height = int(original_video.get(4))\n",
    " \n",
    "# Define the codec and create VideoWriter object.The output is stored in 'outpy.avi' file.\n",
    "fourcc = cv2.VideoWriter_fourcc('m','p','4','v')\n",
    "fps = 60\n",
    "output = cv2.VideoWriter(\"videos/\" + project_video, fourcc, fps, (frame_width,frame_height))\n",
    "\n",
    "# Process Video\n",
    "while(original_video.isOpened()):\n",
    "    ret, frame = original_video.read()\n",
    "\n",
    "    if ret == True:\n",
    "        # Write the frame into the file 'output.avi'\n",
    "        output.write(process_image(frame))\n",
    "\n",
    "    else:\n",
    "        break\n",
    "\n",
    "# When everything done, release the video capture and video write objects\n",
    "original_video.release()\n",
    "output.release()"
   ]
  },
  {
   "cell_type": "code",
   "execution_count": null,
   "id": "ab5f9030",
   "metadata": {
    "execution": {
     "iopub.status.busy": "2023-11-03T05:18:28.296041Z",
     "iopub.status.idle": "2023-11-03T05:18:28.296569Z",
     "shell.execute_reply": "2023-11-03T05:18:28.296314Z",
     "shell.execute_reply.started": "2023-11-03T05:18:28.296285Z"
    },
    "papermill": {
     "duration": null,
     "end_time": null,
     "exception": null,
     "start_time": null,
     "status": "pending"
    },
    "tags": []
   },
   "outputs": [],
   "source": [
    "play(\"videos/\" + project_video)"
   ]
  },
  {
   "cell_type": "markdown",
   "id": "a6b4940f",
   "metadata": {
    "papermill": {
     "duration": null,
     "end_time": null,
     "exception": null,
     "start_time": null,
     "status": "pending"
    },
    "tags": []
   },
   "source": [
    "### Harder Challenge Video"
   ]
  },
  {
   "cell_type": "code",
   "execution_count": null,
   "id": "02c60b97",
   "metadata": {
    "execution": {
     "iopub.status.busy": "2023-11-03T05:18:28.298345Z",
     "iopub.status.idle": "2023-11-03T05:18:28.298896Z",
     "shell.execute_reply": "2023-11-03T05:18:28.298624Z",
     "shell.execute_reply.started": "2023-11-03T05:18:28.298585Z"
    },
    "papermill": {
     "duration": null,
     "end_time": null,
     "exception": null,
     "start_time": null,
     "status": "pending"
    },
    "tags": []
   },
   "outputs": [],
   "source": [
    "# Creating a VideoCapture object to read the video\n",
    "project_video = \"harder_challenge_video.mp4\"\n",
    "original_video = cv2.VideoCapture(test_data_dir + project_video)\n",
    "frame_width = int(original_video.get(3))\n",
    "frame_height = int(original_video.get(4))\n",
    " \n",
    "# Define the codec and create VideoWriter object.The output is stored in 'outpy.avi' file.\n",
    "fourcc = cv2.VideoWriter_fourcc('m','p','4','v')\n",
    "fps = 60\n",
    "output = cv2.VideoWriter(\"videos/\" + project_video, fourcc, fps, (frame_width,frame_height))\n",
    "\n",
    "# Process Video\n",
    "while(original_video.isOpened()):\n",
    "    ret, frame = original_video.read()\n",
    "\n",
    "    if ret == True:\n",
    "        # Write the frame into the file 'output.avi'\n",
    "        output.write(process_image(frame))\n",
    "\n",
    "    else:\n",
    "        break\n",
    "\n",
    "# When everything done, release the video capture and video write objects\n",
    "original_video.release()\n",
    "output.release()"
   ]
  },
  {
   "cell_type": "code",
   "execution_count": null,
   "id": "bc3cae2f",
   "metadata": {
    "execution": {
     "iopub.status.busy": "2023-11-03T05:18:28.301678Z",
     "iopub.status.idle": "2023-11-03T05:18:28.302143Z",
     "shell.execute_reply": "2023-11-03T05:18:28.301949Z",
     "shell.execute_reply.started": "2023-11-03T05:18:28.301922Z"
    },
    "papermill": {
     "duration": null,
     "end_time": null,
     "exception": null,
     "start_time": null,
     "status": "pending"
    },
    "tags": []
   },
   "outputs": [],
   "source": [
    "play(\"videos/\" + project_video)"
   ]
  },
  {
   "cell_type": "markdown",
   "id": "e1304863",
   "metadata": {
    "papermill": {
     "duration": null,
     "end_time": null,
     "exception": null,
     "start_time": null,
     "status": "pending"
    },
    "tags": []
   },
   "source": [
    "## References\n",
    "\n",
    "- [Kitti Dataset Processing](http://ronny.rest/blog/post_2017_09_06_kitti_road_data/)\n",
    "- [Image Segmentation on Keras](https://yann-leguilly.gitlab.io/post/2019-12-14-tensorflow-tfdata-segmentation/)"
   ]
  },
  {
   "cell_type": "code",
   "execution_count": null,
   "id": "a3b02495",
   "metadata": {
    "papermill": {
     "duration": null,
     "end_time": null,
     "exception": null,
     "start_time": null,
     "status": "pending"
    },
    "tags": []
   },
   "outputs": [],
   "source": []
  }
 ],
 "metadata": {
  "kernelspec": {
   "display_name": "Python 3",
   "language": "python",
   "name": "python3"
  },
  "language_info": {
   "codemirror_mode": {
    "name": "ipython",
    "version": 3
   },
   "file_extension": ".py",
   "mimetype": "text/x-python",
   "name": "python",
   "nbconvert_exporter": "python",
   "pygments_lexer": "ipython3",
   "version": "3.7.10"
  },
  "papermill": {
   "default_parameters": {},
   "duration": 51.652336,
   "end_time": "2023-11-03T05:20:20.648437",
   "environment_variables": {},
   "exception": true,
   "input_path": "__notebook__.ipynb",
   "output_path": "__notebook__.ipynb",
   "parameters": {},
   "start_time": "2023-11-03T05:19:28.996101",
   "version": "2.3.3"
  }
 },
 "nbformat": 4,
 "nbformat_minor": 5
}
